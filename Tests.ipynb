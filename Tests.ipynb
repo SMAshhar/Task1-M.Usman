{
 "metadata": {
  "language_info": {
   "codemirror_mode": {
    "name": "ipython",
    "version": 3
   },
   "file_extension": ".py",
   "mimetype": "text/x-python",
   "name": "python",
   "nbconvert_exporter": "python",
   "pygments_lexer": "ipython3",
   "version": "3.8.5"
  },
  "orig_nbformat": 4,
  "kernelspec": {
   "name": "python3",
   "display_name": "Python 3.8.5 64-bit"
  },
  "interpreter": {
   "hash": "31f2aee4e71d21fbe5cf8b01ff0e069b9275f58929596ceb00d14d90e3e16cd6"
  }
 },
 "nbformat": 4,
 "nbformat_minor": 2,
 "cells": [
  {
   "source": [
    "Question 1: Create a function without parameters that will take user inputs, perform computation and print output."
   ],
   "cell_type": "markdown",
   "metadata": {}
  },
  {
   "cell_type": "code",
   "execution_count": 4,
   "metadata": {},
   "outputs": [
    {
     "output_type": "stream",
     "name": "stdout",
     "text": [
      "Pay 234.6 instead of : 255\n"
     ]
    }
   ],
   "source": [
    "def cost():\n",
    "    price = int(input(\"Please enter price of object : \"))\n",
    "    qty = int(input(\"Please enter quantity of the object purchased : \"))\n",
    "\n",
    "    totalPrice = qty * price\n",
    "\n",
    "    if qty > 10 and qty < 20:\n",
    "        discount = totalPrice - (0.08 * totalPrice)\n",
    "    elif qty > 20:\n",
    "        discount = totalPrice - (0.3 * totalPrice)\n",
    "    else:\n",
    "        discount = totalPrice\n",
    "    \n",
    "    print(f\"Pay {discount} instead of : {totalPrice}\")\n",
    "\n",
    "cost()"
   ]
  },
  {
   "source": [
    "Question 2: Write a python program to sum the prices entered by user and displays the total"
   ],
   "cell_type": "markdown",
   "metadata": {}
  },
  {
   "cell_type": "code",
   "execution_count": 8,
   "metadata": {},
   "outputs": [
    {
     "output_type": "stream",
     "name": "stdout",
     "text": [
      "The total price: 30\n"
     ]
    }
   ],
   "source": [
    "def advert(advertisments):\n",
    "    totalPrice = 0\n",
    "    for x in range(advertisments):\n",
    "        z = int(input(f\"Enter the price of advertisment {x+1} : \"))\n",
    "        totalPrice += z\n",
    "    print(f\"The total price: {totalPrice}\")\n",
    "advert(3)"
   ]
  },
  {
   "source": [
    "Question 3: Write a python program to create a text file. Write n lines of text in the file. Display the current cursor position in the file. "
   ],
   "cell_type": "markdown",
   "metadata": {}
  },
  {
   "cell_type": "code",
   "execution_count": 6,
   "metadata": {},
   "outputs": [
    {
     "output_type": "stream",
     "name": "stdout",
     "text": [
      "5\n"
     ]
    }
   ],
   "source": [
    "with open(\"Yourname.txt\", \"w\") as f:\n",
    "    f.write(\"Now you see me.\\n\")\n",
    "    f.write(\"Now you don't\\n\")\n",
    "    f.write(\"Thats why they call me.\\n\")\n",
    "    f.write(\"A megician\")\n",
    "    f.seek(5)\n",
    "    print(f.tell())"
   ]
  },
  {
   "cell_type": "code",
   "execution_count": 8,
   "metadata": {},
   "outputs": [
    {
     "output_type": "stream",
     "name": "stdout",
     "text": [
      "Result is :  2.09375\nClarksen\n"
     ]
    }
   ],
   "source": [
    "def marks():\n",
    "    std_1 = int(input(\"Please enter student 1's marks : \"))\n",
    "    std_2 = int(input(\"Please enter student 2's marks : \"))\n",
    "    std_3 = int(input(\"Please enter student 3's marks : \"))\n",
    "\n",
    "    try:\n",
    "        z = (std_1 + std_2) / std_3\n",
    "        print(\"Result is : \", z)\n",
    "    except(ZeroDivisionError):\n",
    "        print(\"Student 3 has 0 marks.\")\n",
    "    except(Exception):\n",
    "        print(\"An error occured\")\n",
    "    finally:\n",
    "        print(\"Clarksen\")\n",
    "marks()"
   ]
  },
  {
   "cell_type": "code",
   "execution_count": null,
   "metadata": {},
   "outputs": [],
   "source": []
  }
 ]
}